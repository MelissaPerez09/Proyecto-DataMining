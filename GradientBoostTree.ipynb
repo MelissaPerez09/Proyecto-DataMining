{
 "cells": [
  {
   "cell_type": "markdown",
   "metadata": {},
   "source": [
    "# Gradient Boost Tree Algorithm"
   ]
  },
  {
   "cell_type": "markdown",
   "metadata": {},
   "source": [
    "#### Importación de librerías ⬇️"
   ]
  },
  {
   "cell_type": "code",
   "execution_count": 1,
   "metadata": {},
   "outputs": [],
   "source": [
    "import pickle"
   ]
  },
  {
   "cell_type": "code",
   "execution_count": 2,
   "metadata": {},
   "outputs": [
    {
     "name": "stdout",
     "output_type": "stream",
     "text": [
      "           AÑO   MES  DIASESTANCIA  SEXO  PPERTENENCIA  EDAD  PERIODOEDA  \\\n",
      "117659  2012.0   8.0           3.0   2.0           9.0  31.0         3.0   \n",
      "56693   2020.0   5.0           2.0   1.0           9.0   5.0         3.0   \n",
      "228995  2020.0   7.0           1.0   2.0           9.0  57.0         3.0   \n",
      "49633   2017.0  12.0           2.0   1.0           4.0  37.0         3.0   \n",
      "111288  2013.0   7.0           2.0   1.0           6.0  70.0         3.0   \n",
      "...        ...   ...           ...   ...           ...   ...         ...   \n",
      "180642  2018.0  11.0           4.0   1.0           4.0  13.0         3.0   \n",
      "136546  2021.0   1.0           1.0   1.0           4.0  35.0         3.0   \n",
      "198495  2021.0   1.0           1.0   2.0           4.0  24.0         3.0   \n",
      "47412   2012.0   5.0           1.0   2.0           4.0   6.0         3.0   \n",
      "191508  2019.0   3.0           1.0   2.0           9.0  41.0         3.0   \n",
      "\n",
      "        DEPTORESIDEN  MUNIRESIDEN  CAUFIN  TRATARECIB  CLUSTER  \n",
      "117659           1.0            1       1         1.0        0  \n",
      "56693            1.0            2       2         1.0        0  \n",
      "228995           1.0            1       3         1.0        0  \n",
      "49633            9.0            3       4         1.0        0  \n",
      "111288          16.0            4       5         1.0        0  \n",
      "...              ...          ...     ...         ...      ...  \n",
      "180642          15.0           66     519         1.0        1  \n",
      "136546           8.0           32     128         2.0        0  \n",
      "198495          17.0           73      66         3.0        0  \n",
      "47412            1.0            1     520         1.0        1  \n",
      "191508          23.0           20      66         3.0        0  \n",
      "\n",
      "[2383 rows x 12 columns]\n",
      "           AÑO   MES  DIASESTANCIA  SEXO  PPERTENENCIA  EDAD  PERIODOEDA  \\\n",
      "146602  2021.0   9.0           1.0   1.0           1.0   1.0         1.0   \n",
      "63849   2018.0   5.0           5.0   2.0           4.0  71.0         3.0   \n",
      "213472  2019.0   1.0           2.0   2.0           9.0  35.0         3.0   \n",
      "139127  2019.0   9.0           1.0   1.0           4.0  44.0         3.0   \n",
      "10791   2016.0   1.0           1.0   1.0           4.0  27.0         3.0   \n",
      "...        ...   ...           ...   ...           ...   ...         ...   \n",
      "237806  2020.0  11.0           1.0   1.0           4.0   1.0         1.0   \n",
      "108316  2016.0   6.0           2.0   1.0           9.0  69.0         3.0   \n",
      "121014  2015.0   6.0           1.0   1.0           4.0   1.0         1.0   \n",
      "70242   2019.0  11.0           1.0   1.0           1.0  80.0         3.0   \n",
      "73944   2021.0   6.0           3.0   2.0           9.0  37.0         3.0   \n",
      "\n",
      "        DEPTORESIDEN  MUNIRESIDEN  CAUFIN  TRATARECIB  CLUSTER  \n",
      "146602           9.0            6       8         1.0        0  \n",
      "63849            1.0            1      10         1.0        0  \n",
      "213472           1.0            1      11         3.0        0  \n",
      "139127           1.0           10      14         1.0        0  \n",
      "10791            1.0            1      15         1.0        0  \n",
      "...              ...          ...     ...         ...      ...  \n",
      "237806          18.0           54       8         1.0        0  \n",
      "108316           9.0           11      14         2.0        0  \n",
      "121014          15.0           66       8         1.0        0  \n",
      "70242           13.0           21      10         1.0        0  \n",
      "73944            1.0            1      11         3.0        0  \n",
      "\n",
      "[796 rows x 12 columns]\n"
     ]
    },
    {
     "name": "stderr",
     "output_type": "stream",
     "text": [
      "/var/folders/1_/typt0bhn7_q_v0p0c8csdvmh0000gn/T/ipykernel_6726/530943450.py:3: DeprecationWarning: \n",
      "Pyarrow will become a required dependency of pandas in the next major release of pandas (pandas 3.0),\n",
      "(to allow more performant data types, such as the Arrow string type, and better interoperability with other libraries)\n",
      "but was not found to be installed on your system.\n",
      "If this would cause problems for you,\n",
      "please provide us feedback at https://github.com/pandas-dev/pandas/issues/54466\n",
      "        \n",
      "  data = pickle.load(f)\n"
     ]
    }
   ],
   "source": [
    "# Importar data general\n",
    "with open('model.pkl', 'rb') as f:\n",
    "    data = pickle.load(f)\n",
    "\n",
    "# Importar data de las 10 enfermedades más comunes\n",
    "with open('model1.pkl', 'rb') as f:\n",
    "    data2 = pickle.load(f)\n",
    "    \n",
    "print(data)\n",
    "print(data2)"
   ]
  }
 ],
 "metadata": {
  "kernelspec": {
   "display_name": "Python 3",
   "language": "python",
   "name": "python3"
  },
  "language_info": {
   "codemirror_mode": {
    "name": "ipython",
    "version": 3
   },
   "file_extension": ".py",
   "mimetype": "text/x-python",
   "name": "python",
   "nbconvert_exporter": "python",
   "pygments_lexer": "ipython3",
   "version": "3.11.8"
  }
 },
 "nbformat": 4,
 "nbformat_minor": 2
}
